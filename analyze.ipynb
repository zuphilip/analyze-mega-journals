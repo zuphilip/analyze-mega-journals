{
 "cells": [
  {
   "cell_type": "markdown",
   "metadata": {},
   "source": [
    "# Analyze articles from mega journals\n",
    "\n",
    "## Import packages\n"
   ]
  },
  {
   "cell_type": "markdown",
   "metadata": {},
   "source": [
    "First, let us import all the packages, which are needed for this notebook:"
   ]
  },
  {
   "cell_type": "code",
   "execution_count": 1,
   "metadata": {},
   "outputs": [],
   "source": [
    "import csv\n",
    "import pandas as pd\n",
    "import numpy as np\n",
    "import matplotlib.pyplot as plt\n",
    "\n",
    "from crossref.restful import Works, Journals\n",
    "from wordcloud import WordCloud"
   ]
  },
  {
   "cell_type": "markdown",
   "metadata": {},
   "source": [
    "If you miss one of these packages, then you can also install it directly here with something like the following (don't forget to restart the kernel afterwards):"
   ]
  },
  {
   "cell_type": "code",
   "execution_count": null,
   "metadata": {},
   "outputs": [],
   "source": [
    "!pip install crossrefapi wordcloud"
   ]
  },
  {
   "cell_type": "markdown",
   "metadata": {},
   "source": [
    "## Choose the mega journal to analyze\n",
    "\n",
    "For each mega journal a specific search within the CrossRef API is defined (see below).\n",
    "You can choose the mega journal here from this list and then make the analysis for that.\n",
    "The resulting figures and data are saved the the specified prefix then."
   ]
  },
  {
   "cell_type": "code",
   "execution_count": 2,
   "metadata": {
    "collapsed": false,
    "jupyter": {
     "outputs_hidden": false
    }
   },
   "outputs": [],
   "source": [
    "# You can change this to one of the values:\n",
    "choice = \"academia-letters\"\n",
    "#choice = \"plos-one\"\n",
    "#choice = \"peerj\"\n",
    "#choice = \"peerj-cs\"\n",
    "#choice = \"sage-open\"\n",
    "#choice = \"open-research-europe\"\n",
    "#choice = \"f1000-research\"\n",
    "\n",
    "prefix = choice + \"-\""
   ]
  },
  {
   "cell_type": "markdown",
   "metadata": {
    "tags": []
   },
   "source": [
    "## Analyze the papers\n",
    "\n",
    "This step relies on the previously created CSV files, where the data is from Crossref is saved.\n",
    "If you want to take fresh data first, then jump to the section below.\n",
    "Otherwise you can continue here to analyze the same data as it was used originally."
   ]
  },
  {
   "cell_type": "code",
   "execution_count": 3,
   "metadata": {
    "collapsed": false,
    "jupyter": {
     "outputs_hidden": false
    }
   },
   "outputs": [
    {
     "data": {
      "text/html": [
       "<div>\n",
       "<style scoped>\n",
       "    .dataframe tbody tr th:only-of-type {\n",
       "        vertical-align: middle;\n",
       "    }\n",
       "\n",
       "    .dataframe tbody tr th {\n",
       "        vertical-align: top;\n",
       "    }\n",
       "\n",
       "    .dataframe thead th {\n",
       "        text-align: right;\n",
       "    }\n",
       "</style>\n",
       "<table border=\"1\" class=\"dataframe\">\n",
       "  <thead>\n",
       "    <tr style=\"text-align: right;\">\n",
       "      <th></th>\n",
       "      <th>DOI</th>\n",
       "      <th>prefix</th>\n",
       "      <th>title</th>\n",
       "      <th>language</th>\n",
       "      <th>container-title</th>\n",
       "      <th>ISSN</th>\n",
       "      <th>publisher</th>\n",
       "      <th>URL</th>\n",
       "      <th>issued</th>\n",
       "      <th>published</th>\n",
       "      <th>published-online</th>\n",
       "      <th>indexed</th>\n",
       "      <th>created</th>\n",
       "      <th>reference-count</th>\n",
       "      <th>is-referenced-by-count</th>\n",
       "      <th>type</th>\n",
       "      <th>member</th>\n",
       "      <th>year</th>\n",
       "      <th>month</th>\n",
       "      <th>weekday</th>\n",
       "    </tr>\n",
       "  </thead>\n",
       "  <tbody>\n",
       "    <tr>\n",
       "      <th>0</th>\n",
       "      <td>10.20935/al2610</td>\n",
       "      <td>10.20935</td>\n",
       "      <td>Florentino Ariza as a Machiavellian artist in ...</td>\n",
       "      <td>en</td>\n",
       "      <td>Academia Letters</td>\n",
       "      <td>NaN</td>\n",
       "      <td>Academia.edu</td>\n",
       "      <td>http://dx.doi.org/10.20935/al2610</td>\n",
       "      <td>2021-08-04</td>\n",
       "      <td>2021-8-4</td>\n",
       "      <td>2021-8-4</td>\n",
       "      <td>2021-12-8</td>\n",
       "      <td>2021-8-17</td>\n",
       "      <td>0</td>\n",
       "      <td>0</td>\n",
       "      <td>journal-article</td>\n",
       "      <td>9563</td>\n",
       "      <td>2021</td>\n",
       "      <td>8</td>\n",
       "      <td>2</td>\n",
       "    </tr>\n",
       "    <tr>\n",
       "      <th>1</th>\n",
       "      <td>10.20935/al953</td>\n",
       "      <td>10.20935</td>\n",
       "      <td>A Novel Treatment Approach in Alzheimer’s Dise...</td>\n",
       "      <td>en</td>\n",
       "      <td>Academia Letters</td>\n",
       "      <td>NaN</td>\n",
       "      <td>Academia.edu</td>\n",
       "      <td>http://dx.doi.org/10.20935/al953</td>\n",
       "      <td>2021-04-28</td>\n",
       "      <td>2021-4-28</td>\n",
       "      <td>2021-4-28</td>\n",
       "      <td>2021-12-12</td>\n",
       "      <td>2021-4-28</td>\n",
       "      <td>0</td>\n",
       "      <td>0</td>\n",
       "      <td>journal-article</td>\n",
       "      <td>9563</td>\n",
       "      <td>2021</td>\n",
       "      <td>4</td>\n",
       "      <td>2</td>\n",
       "    </tr>\n",
       "    <tr>\n",
       "      <th>2</th>\n",
       "      <td>10.20935/al106</td>\n",
       "      <td>10.20935</td>\n",
       "      <td>Designing optimal welfare policies for interme...</td>\n",
       "      <td>en</td>\n",
       "      <td>Academia Letters</td>\n",
       "      <td>2771-9359</td>\n",
       "      <td>Academia.edu</td>\n",
       "      <td>http://dx.doi.org/10.20935/al106</td>\n",
       "      <td>2020-12-29</td>\n",
       "      <td>2020-12-29</td>\n",
       "      <td>2020-12-29</td>\n",
       "      <td>2022-3-13</td>\n",
       "      <td>2021-1-14</td>\n",
       "      <td>0</td>\n",
       "      <td>1</td>\n",
       "      <td>journal-article</td>\n",
       "      <td>9563</td>\n",
       "      <td>2020</td>\n",
       "      <td>12</td>\n",
       "      <td>1</td>\n",
       "    </tr>\n",
       "    <tr>\n",
       "      <th>3</th>\n",
       "      <td>10.20935/al421</td>\n",
       "      <td>10.20935</td>\n",
       "      <td>Back and Forth: The Journey of Inclusive Educa...</td>\n",
       "      <td>en</td>\n",
       "      <td>Academia Letters</td>\n",
       "      <td>NaN</td>\n",
       "      <td>Academia.edu</td>\n",
       "      <td>http://dx.doi.org/10.20935/al421</td>\n",
       "      <td>2021-03-04</td>\n",
       "      <td>2021-3-4</td>\n",
       "      <td>2021-3-4</td>\n",
       "      <td>2021-12-18</td>\n",
       "      <td>2021-3-6</td>\n",
       "      <td>0</td>\n",
       "      <td>0</td>\n",
       "      <td>journal-article</td>\n",
       "      <td>9563</td>\n",
       "      <td>2021</td>\n",
       "      <td>3</td>\n",
       "      <td>3</td>\n",
       "    </tr>\n",
       "    <tr>\n",
       "      <th>4</th>\n",
       "      <td>10.20935/al3740</td>\n",
       "      <td>10.20935</td>\n",
       "      <td>A Proof of Concept Randomized Controlled Trial...</td>\n",
       "      <td>en</td>\n",
       "      <td>Academia Letters</td>\n",
       "      <td>NaN</td>\n",
       "      <td>Academia.edu</td>\n",
       "      <td>http://dx.doi.org/10.20935/al3740</td>\n",
       "      <td>2021-10-20</td>\n",
       "      <td>2021-10-20</td>\n",
       "      <td>2021-10-20</td>\n",
       "      <td>2021-12-9</td>\n",
       "      <td>2021-11-11</td>\n",
       "      <td>0</td>\n",
       "      <td>0</td>\n",
       "      <td>journal-article</td>\n",
       "      <td>9563</td>\n",
       "      <td>2021</td>\n",
       "      <td>10</td>\n",
       "      <td>2</td>\n",
       "    </tr>\n",
       "  </tbody>\n",
       "</table>\n",
       "</div>"
      ],
      "text/plain": [
       "               DOI    prefix  \\\n",
       "0  10.20935/al2610  10.20935   \n",
       "1   10.20935/al953  10.20935   \n",
       "2   10.20935/al106  10.20935   \n",
       "3   10.20935/al421  10.20935   \n",
       "4  10.20935/al3740  10.20935   \n",
       "\n",
       "                                               title language  \\\n",
       "0  Florentino Ariza as a Machiavellian artist in ...       en   \n",
       "1  A Novel Treatment Approach in Alzheimer’s Dise...       en   \n",
       "2  Designing optimal welfare policies for interme...       en   \n",
       "3  Back and Forth: The Journey of Inclusive Educa...       en   \n",
       "4  A Proof of Concept Randomized Controlled Trial...       en   \n",
       "\n",
       "    container-title       ISSN     publisher  \\\n",
       "0  Academia Letters        NaN  Academia.edu   \n",
       "1  Academia Letters        NaN  Academia.edu   \n",
       "2  Academia Letters  2771-9359  Academia.edu   \n",
       "3  Academia Letters        NaN  Academia.edu   \n",
       "4  Academia Letters        NaN  Academia.edu   \n",
       "\n",
       "                                 URL     issued   published published-online  \\\n",
       "0  http://dx.doi.org/10.20935/al2610 2021-08-04    2021-8-4         2021-8-4   \n",
       "1   http://dx.doi.org/10.20935/al953 2021-04-28   2021-4-28        2021-4-28   \n",
       "2   http://dx.doi.org/10.20935/al106 2020-12-29  2020-12-29       2020-12-29   \n",
       "3   http://dx.doi.org/10.20935/al421 2021-03-04    2021-3-4         2021-3-4   \n",
       "4  http://dx.doi.org/10.20935/al3740 2021-10-20  2021-10-20       2021-10-20   \n",
       "\n",
       "      indexed     created  reference-count  is-referenced-by-count  \\\n",
       "0   2021-12-8   2021-8-17                0                       0   \n",
       "1  2021-12-12   2021-4-28                0                       0   \n",
       "2   2022-3-13   2021-1-14                0                       1   \n",
       "3  2021-12-18    2021-3-6                0                       0   \n",
       "4   2021-12-9  2021-11-11                0                       0   \n",
       "\n",
       "              type  member  year  month  weekday  \n",
       "0  journal-article    9563  2021      8        2  \n",
       "1  journal-article    9563  2021      4        2  \n",
       "2  journal-article    9563  2020     12        1  \n",
       "3  journal-article    9563  2021      3        3  \n",
       "4  journal-article    9563  2021     10        2  "
      ]
     },
     "execution_count": 3,
     "metadata": {},
     "output_type": "execute_result"
    }
   ],
   "source": [
    "# reading csv file as pandas dataframe\n",
    "data = pd.read_csv('./data/' + prefix + 'papers.csv')\n",
    "\n",
    "data['issued'] = pd.to_datetime(data['issued'])\n",
    "data['year'] = data['issued'].dt.year\n",
    "data['month'] = data['issued'].dt.month\n",
    "data['weekday'] = data['issued'].dt.weekday\n",
    "\n",
    "# showing the first entries\n",
    "data.head()"
   ]
  },
  {
   "cell_type": "code",
   "execution_count": 4,
   "metadata": {
    "collapsed": false,
    "jupyter": {
     "outputs_hidden": false
    }
   },
   "outputs": [
    {
     "name": "stdout",
     "output_type": "stream",
     "text": [
      "10.20935    3895\n",
      "Name: prefix, dtype: int64 \n",
      "\n",
      "en    3895\n",
      "Name: language, dtype: int64 \n",
      "\n",
      "Academia Letters    3895\n",
      "Name: container-title, dtype: int64 \n",
      "\n",
      "2771-9359    3839\n",
      "Name: ISSN, dtype: int64 \n",
      "\n",
      "Academia.edu    3895\n",
      "Name: publisher, dtype: int64 \n",
      "\n",
      "journal-article    3895\n",
      "Name: type, dtype: int64 \n",
      "\n",
      "9563    3895\n",
      "Name: member, dtype: int64 \n",
      "\n"
     ]
    }
   ],
   "source": [
    "# Some consistency and sanity checks\n",
    "print(data['prefix'].value_counts(), \"\\n\")\n",
    "print(data['language'].value_counts(), \"\\n\")\n",
    "print(data['container-title'].value_counts(), \"\\n\")\n",
    "print(data['ISSN'].value_counts(), \"\\n\")\n",
    "print(data['publisher'].value_counts(), \"\\n\")\n",
    "print(data['type'].value_counts(), \"\\n\")\n",
    "print(data['member'].value_counts(), \"\\n\")"
   ]
  },
  {
   "cell_type": "markdown",
   "metadata": {
    "jupyter": {
     "outputs_hidden": false
    },
    "tags": []
   },
   "source": [
    "### Publications per month"
   ]
  },
  {
   "cell_type": "code",
   "execution_count": 5,
   "metadata": {},
   "outputs": [
    {
     "data": {
      "text/plain": [
       "year  month\n",
       "2020  9          1\n",
       "      10         2\n",
       "      11        21\n",
       "      12        43\n",
       "2021  1         97\n",
       "      2        161\n",
       "      3        388\n",
       "      4         98\n",
       "      5         26\n",
       "      6        383\n",
       "      7        953\n",
       "      8        876\n",
       "      9        163\n",
       "      10       135\n",
       "      11       182\n",
       "      12       170\n",
       "2022  1        160\n",
       "      2         36\n",
       "dtype: int64"
      ]
     },
     "execution_count": 5,
     "metadata": {},
     "output_type": "execute_result"
    }
   ],
   "source": [
    "data['issued'].value_counts()\n",
    "data.value_counts(subset=['year', 'month'], sort=False)"
   ]
  },
  {
   "cell_type": "code",
   "execution_count": 6,
   "metadata": {},
   "outputs": [
    {
     "data": {
      "image/png": "[encoded data removed]",
      "text/plain": [
       "<Figure size 432x288 with 1 Axes>"
      ]
     },
     "metadata": {
      "needs_background": "light"
     },
     "output_type": "display_data"
    }
   ],
   "source": [
    "fig = plt.figure()\n",
    "ax = fig.add_subplot(111)\n",
    "\n",
    "data.value_counts(subset=['year', 'month'], sort=False).plot(kind='bar', legend=False).set(xlabel=None)\n",
    "# the following needs matplot 3.4.1 or higher\n",
    "ax.bar_label(ax.containers[0], size=8)\n",
    "\n",
    "plt.savefig('./figures/' + prefix + 'published-articles.png', dpi=600, bbox_inches=\"tight\")"
   ]
  },
  {
   "cell_type": "markdown",
   "metadata": {
    "tags": []
   },
   "source": [
    "### Publications per weekday"
   ]
  },
  {
   "cell_type": "code",
   "execution_count": 7,
   "metadata": {
    "collapsed": false,
    "jupyter": {
     "outputs_hidden": false
    }
   },
   "outputs": [
    {
     "data": {
      "text/plain": [
       "0    644\n",
       "1    553\n",
       "2    809\n",
       "3    760\n",
       "4    493\n",
       "5    374\n",
       "6    262\n",
       "Name: weekday, dtype: int64"
      ]
     },
     "execution_count": 7,
     "metadata": {},
     "output_type": "execute_result"
    }
   ],
   "source": [
    "data['weekday'].value_counts().sort_index()"
   ]
  },
  {
   "cell_type": "code",
   "execution_count": 8,
   "metadata": {
    "collapsed": false,
    "jupyter": {
     "outputs_hidden": false
    }
   },
   "outputs": [
    {
     "data": {
      "image/png": "[encoded data removed]",
      "text/plain": [
       "<Figure size 432x288 with 1 Axes>"
      ]
     },
     "metadata": {
      "needs_background": "light"
     },
     "output_type": "display_data"
    }
   ],
   "source": [
    "fig = plt.figure()\n",
    "ax = fig.add_subplot(111)\n",
    "\n",
    "data['weekday'].value_counts().sort_index().rename(index={0: \"Mo\", 1: \"Di\", 2: \"Mi\", 3: \"Do\", 4: \"Fr\", 5: \"Sa\", 6: \"So\"}).plot(kind='bar')\n",
    "plt.xticks(rotation=0)\n",
    "# the following needs matplot 3.4.1 or higher\n",
    "ax.bar_label(ax.containers[0])\n",
    "\n",
    "plt.savefig('./figures/' + prefix + 'publications-weekday.png', dpi=600)"
   ]
  },
  {
   "cell_type": "markdown",
   "metadata": {
    "jupyter": {
     "outputs_hidden": false
    }
   },
   "source": [
    "If articles are published on Sunday, this may indicate a (fully) automated publishing workflow."
   ]
  },
  {
   "cell_type": "markdown",
   "metadata": {},
   "source": [
    "### Word cloud from the title words\n",
    "\n",
    "First, we concatenate the title of all published articles into one variable."
   ]
  },
  {
   "cell_type": "code",
   "execution_count": 9,
   "metadata": {
    "collapsed": false,
    "jupyter": {
     "outputs_hidden": false
    },
    "scrolled": true
   },
   "outputs": [],
   "source": [
    "wordsFromTitles = \"\"\n",
    "with open('./data/' + prefix + 'papers.csv', 'r', newline='') as papersfile:\n",
    "    reader = csv.DictReader(papersfile)\n",
    "    for row in reader:\n",
    "        wordsFromTitles += row['title'] + \" | \"\n",
    "\n",
    "# print(wordsFromTitles)"
   ]
  },
  {
   "cell_type": "code",
   "execution_count": 10,
   "metadata": {
    "collapsed": false,
    "jupyter": {
     "outputs_hidden": false
    },
    "scrolled": true
   },
   "outputs": [
    {
     "data": {
      "image/png": "[encoded data removed]",
      "text/plain": [
       "<Figure size 432x288 with 1 Axes>"
      ]
     },
     "metadata": {
      "needs_background": "light"
     },
     "output_type": "display_data"
    }
   ],
   "source": [
    "from wordcloud import WordCloud\n",
    "#wordcloud = WordCloud().generate(wordsFromTitles)\n",
    "\n",
    "wordcloud = WordCloud(max_font_size=50, collocation_threshold=5, background_color=\"white\", colormap=\"Dark2\", width=800, height=400).generate(wordsFromTitles)\n",
    "\n",
    "# save it to a file\n",
    "wordcloud.to_file('./figures/' + prefix + 'wordcloud.png')\n",
    "\n",
    "# preview the cloud here directly\n",
    "plt.figure()\n",
    "plt.imshow(wordcloud, interpolation=\"bilinear\")\n",
    "plt.axis(\"off\")\n",
    "plt.show()"
   ]
  },
  {
   "cell_type": "markdown",
   "metadata": {},
   "source": [
    "Some other results from the exploration phase is saved at the end of this notebook."
   ]
  },
  {
   "cell_type": "markdown",
   "metadata": {
    "tags": []
   },
   "source": [
    "## Refetch and update the data (optional)\n",
    "\n",
    "The data from CrossRef's API was fetched along these lines. You can refetch them respectively update the data.\n",
    "All the data here will be saved as CSV files, such that afterwards you can re-analyze them by the code above."
   ]
  },
  {
   "cell_type": "code",
   "execution_count": 12,
   "metadata": {
    "collapsed": false,
    "jupyter": {
     "outputs_hidden": false
    }
   },
   "outputs": [
    {
     "name": "stdout",
     "output_type": "stream",
     "text": [
      "3900 https://api.crossref.org/works?filter=container-title%3AAcademia+Letters\n"
     ]
    }
   ],
   "source": [
    "works = Works()\n",
    "journals = Journals()\n",
    "\n",
    "if choice == \"academia-letters\": articles = works.filter(container_title=\"Academia Letters\")\n",
    "if choice == \"plos-one\": articles = journals.works('1932-6203').filter(from_issued_date='2021')\n",
    "if choice == \"peerj\": articles = journals.works('2167-8359').filter(from_issued_date='2021')\n",
    "if choice == \"peerj-cs\": articles = journals.works('2376-5992').filter(from_issued_date='2021')\n",
    "if choice == \"sage-open\": articles = journals.works('2158-2440').filter(from_issued_date='2021')\n",
    "if choice == \"open-research-europe\": articles = journals.works('2732-5121').filter(from_issued_date='2021')\n",
    "if choice == \"f1000-research\": articles = journals.works('2046-1402').filter(from_issued_date='2021')\n",
    "\n",
    "print(articles.count(), articles.url)"
   ]
  },
  {
   "cell_type": "code",
   "execution_count": 13,
   "metadata": {
    "collapsed": false,
    "jupyter": {
     "outputs_hidden": false
    }
   },
   "outputs": [],
   "source": [
    "def parse(key, obj):\n",
    "    if key in obj:\n",
    "        value = obj[key]\n",
    "    else:\n",
    "        return ''\n",
    "\n",
    "    if key in ['issued', 'published', 'published-online', 'indexed', 'created']:\n",
    "        # e.g. {\"date-parts\":[[2021,8,17]],\"date-time\":\"2021-08-17T20:02:44Z\",\"timestamp\":1629230564000}\n",
    "        if \"date-parts\" in value:\n",
    "            return \", \".join([\"-\".join(map(str, date)) for date in value['date-parts']])\n",
    "        else:\n",
    "            print(\"WARNING: unexpected date format\", value)\n",
    "\n",
    "    if key in ['title', 'container-title']:\n",
    "        if len(value) == 1:\n",
    "            return(value[0])\n",
    "        else:\n",
    "            print(\"WARNING: unexpected title format\", value)\n",
    "\n",
    "    # ISSN is an array and we simply concatenate multiple values\n",
    "    if key in ['ISSN']:\n",
    "        return \", \".join(value)\n",
    "    if key in ['affiliation']:\n",
    "        return \" + \".join([aff['name'] for aff in value])\n",
    "\n",
    "    return value"
   ]
  },
  {
   "cell_type": "code",
   "execution_count": 14,
   "metadata": {
    "collapsed": false,
    "jupyter": {
     "outputs_hidden": false
    }
   },
   "outputs": [],
   "source": [
    "fields = ['DOI', 'prefix', 'title', 'language', 'container-title', 'ISSN', 'publisher', 'URL', 'issued', 'published', 'published-online', 'indexed', 'created', 'reference-count', 'is-referenced-by-count', 'type', 'member']\n",
    "with open('./data/' + prefix + 'papers.csv', 'w', newline='') as papersfile:\n",
    "    paperswriter = csv.writer(papersfile)\n",
    "    paperswriter.writerow(fields)\n",
    "\n",
    "    author_fields = ['given', 'family', 'sequence', 'affiliation']\n",
    "    with open('./data/' + prefix + 'authors.csv', 'w', newline='') as authorsfile:\n",
    "        authorswriter = csv.writer(authorsfile)\n",
    "        authorswriter.writerow(author_fields + ['DOI'])\n",
    "\n",
    "        i=0\n",
    "        for entry in articles:\n",
    "            i += 1\n",
    "            line = [parse(field, entry) for field in fields]\n",
    "            paperswriter.writerow(line)\n",
    "\n",
    "            if 'author' in entry:\n",
    "                for author in entry['author']:\n",
    "                    author_line = [parse(field, author) for field in author_fields]\n",
    "                    author_line.append(entry['DOI'])\n",
    "                    authorswriter.writerow(author_line)\n",
    "            else:\n",
    "                print(\"WARNING: no author info for\", entry['DOI'], entry['title'])\n",
    "\n",
    "            # For testing\n",
    "            #if i > 3: break\n"
   ]
  },
  {
   "cell_type": "markdown",
   "metadata": {
    "tags": []
   },
   "source": [
    "## Other things from the exploration phase"
   ]
  },
  {
   "cell_type": "markdown",
   "metadata": {},
   "source": [
    "### Citation distribution"
   ]
  },
  {
   "cell_type": "code",
   "execution_count": 15,
   "metadata": {},
   "outputs": [
    {
     "name": "stdout",
     "output_type": "stream",
     "text": [
      "0    0.976380\n",
      "1    0.020026\n",
      "2    0.002824\n",
      "3    0.000257\n",
      "4    0.000257\n",
      "6    0.000257\n",
      "Name: is-referenced-by-count, dtype: float64\n"
     ]
    },
    {
     "data": {
      "image/png": "[encoded data removed]",
      "text/plain": [
       "<Figure size 432x288 with 1 Axes>"
      ]
     },
     "metadata": {
      "needs_background": "light"
     },
     "output_type": "display_data"
    }
   ],
   "source": [
    "# print(data['reference-count'].value_counts())\n",
    "citations = data['is-referenced-by-count'].value_counts().sort_index()\n",
    "print(data['is-referenced-by-count'].value_counts(normalize=True).sort_index())\n",
    "\n",
    "citations.plot(kind='bar')\n",
    "hmax = max(data['is-referenced-by-count'].value_counts()[1:])*2\n",
    "plt.axis(ymax=hmax)\n",
    "plt.xlabel(\"Citations\")\n",
    "plt.ylabel(\"Number of Articles\")\n",
    "#plt.bar_label()\n",
    "plt.savefig('./figures/' + prefix + 'citations-distribution.png')"
   ]
  },
  {
   "cell_type": "markdown",
   "metadata": {},
   "source": [
    "### Number of publications on specific dates"
   ]
  },
  {
   "cell_type": "code",
   "execution_count": 16,
   "metadata": {},
   "outputs": [
    {
     "name": "stdout",
     "output_type": "stream",
     "text": [
      "2021-03-20    153\n",
      "2021-07-14    152\n",
      "2021-07-15    131\n",
      "2021-07-13    124\n",
      "2021-04-12     84\n",
      "             ... \n",
      "2021-05-04      1\n",
      "2020-12-09      1\n",
      "2021-02-08      1\n",
      "2021-11-28      1\n",
      "2020-09-23      1\n",
      "Name: issued, Length: 246, dtype: int64\n"
     ]
    }
   ],
   "source": [
    "print(data['issued'].value_counts())"
   ]
  },
  {
   "cell_type": "markdown",
   "metadata": {},
   "source": [
    "For Academia Letters three of the top values from above are from July 2021, i.e. on some of these days a lot of articles were published. Let us have a closer look:"
   ]
  },
  {
   "cell_type": "code",
   "execution_count": 17,
   "metadata": {},
   "outputs": [
    {
     "data": {
      "text/plain": [
       "2021-07-14    152\n",
       "2021-07-15    131\n",
       "2021-07-13    124\n",
       "2021-07-16     81\n",
       "2021-07-25     65\n",
       "2021-07-12     64\n",
       "2021-07-02     55\n",
       "2021-07-01     48\n",
       "2021-07-27     36\n",
       "2021-07-08     34\n",
       "2021-07-07     31\n",
       "2021-07-28     30\n",
       "2021-07-29     23\n",
       "2021-07-19     17\n",
       "2021-07-17     16\n",
       "2021-07-20     16\n",
       "2021-07-21     11\n",
       "2021-07-30     10\n",
       "2021-07-26      5\n",
       "2021-07-22      3\n",
       "2021-07-09      1\n",
       "Name: issued, dtype: int64"
      ]
     },
     "execution_count": 17,
     "metadata": {},
     "output_type": "execute_result"
    }
   ],
   "source": [
    "data[(data['year'] == 2021) & (data['month'] == 7)]['issued'].value_counts()"
   ]
  },
  {
   "cell_type": "markdown",
   "metadata": {},
   "source": [
    "The top three are more than 500 articles published within 3 days... that is a lot!"
   ]
  },
  {
   "cell_type": "markdown",
   "metadata": {
    "tags": []
   },
   "source": [
    "### Analyze authors and affiliations"
   ]
  },
  {
   "cell_type": "code",
   "execution_count": 19,
   "metadata": {
    "collapsed": false,
    "jupyter": {
     "outputs_hidden": false
    }
   },
   "outputs": [
    {
     "data": {
      "text/html": [
       "<div>\n",
       "<style scoped>\n",
       "    .dataframe tbody tr th:only-of-type {\n",
       "        vertical-align: middle;\n",
       "    }\n",
       "\n",
       "    .dataframe tbody tr th {\n",
       "        vertical-align: top;\n",
       "    }\n",
       "\n",
       "    .dataframe thead th {\n",
       "        text-align: right;\n",
       "    }\n",
       "</style>\n",
       "<table border=\"1\" class=\"dataframe\">\n",
       "  <thead>\n",
       "    <tr style=\"text-align: right;\">\n",
       "      <th></th>\n",
       "      <th>DOI</th>\n",
       "      <th>prefix</th>\n",
       "      <th>title</th>\n",
       "      <th>language</th>\n",
       "      <th>container-title</th>\n",
       "      <th>ISSN</th>\n",
       "      <th>publisher</th>\n",
       "      <th>URL</th>\n",
       "      <th>issued</th>\n",
       "      <th>published</th>\n",
       "      <th>published-online</th>\n",
       "      <th>indexed</th>\n",
       "      <th>created</th>\n",
       "      <th>reference-count</th>\n",
       "      <th>is-referenced-by-count</th>\n",
       "      <th>type</th>\n",
       "      <th>member</th>\n",
       "      <th>year</th>\n",
       "      <th>month</th>\n",
       "      <th>weekday</th>\n",
       "    </tr>\n",
       "  </thead>\n",
       "  <tbody>\n",
       "    <tr>\n",
       "      <th>0</th>\n",
       "      <td>10.20935/al2610</td>\n",
       "      <td>10.20935</td>\n",
       "      <td>Florentino Ariza as a Machiavellian artist in ...</td>\n",
       "      <td>en</td>\n",
       "      <td>Academia Letters</td>\n",
       "      <td>NaN</td>\n",
       "      <td>Academia.edu</td>\n",
       "      <td>http://dx.doi.org/10.20935/al2610</td>\n",
       "      <td>2021-08-04</td>\n",
       "      <td>2021-8-4</td>\n",
       "      <td>2021-8-4</td>\n",
       "      <td>2021-12-8</td>\n",
       "      <td>2021-8-17</td>\n",
       "      <td>0</td>\n",
       "      <td>0</td>\n",
       "      <td>journal-article</td>\n",
       "      <td>9563</td>\n",
       "      <td>2021</td>\n",
       "      <td>8</td>\n",
       "      <td>2</td>\n",
       "    </tr>\n",
       "    <tr>\n",
       "      <th>1</th>\n",
       "      <td>10.20935/al953</td>\n",
       "      <td>10.20935</td>\n",
       "      <td>A Novel Treatment Approach in Alzheimer’s Dise...</td>\n",
       "      <td>en</td>\n",
       "      <td>Academia Letters</td>\n",
       "      <td>NaN</td>\n",
       "      <td>Academia.edu</td>\n",
       "      <td>http://dx.doi.org/10.20935/al953</td>\n",
       "      <td>2021-04-28</td>\n",
       "      <td>2021-4-28</td>\n",
       "      <td>2021-4-28</td>\n",
       "      <td>2021-12-12</td>\n",
       "      <td>2021-4-28</td>\n",
       "      <td>0</td>\n",
       "      <td>0</td>\n",
       "      <td>journal-article</td>\n",
       "      <td>9563</td>\n",
       "      <td>2021</td>\n",
       "      <td>4</td>\n",
       "      <td>2</td>\n",
       "    </tr>\n",
       "    <tr>\n",
       "      <th>2</th>\n",
       "      <td>10.20935/al106</td>\n",
       "      <td>10.20935</td>\n",
       "      <td>Designing optimal welfare policies for interme...</td>\n",
       "      <td>en</td>\n",
       "      <td>Academia Letters</td>\n",
       "      <td>2771-9359</td>\n",
       "      <td>Academia.edu</td>\n",
       "      <td>http://dx.doi.org/10.20935/al106</td>\n",
       "      <td>2020-12-29</td>\n",
       "      <td>2020-12-29</td>\n",
       "      <td>2020-12-29</td>\n",
       "      <td>2022-3-13</td>\n",
       "      <td>2021-1-14</td>\n",
       "      <td>0</td>\n",
       "      <td>1</td>\n",
       "      <td>journal-article</td>\n",
       "      <td>9563</td>\n",
       "      <td>2020</td>\n",
       "      <td>12</td>\n",
       "      <td>1</td>\n",
       "    </tr>\n",
       "    <tr>\n",
       "      <th>3</th>\n",
       "      <td>10.20935/al421</td>\n",
       "      <td>10.20935</td>\n",
       "      <td>Back and Forth: The Journey of Inclusive Educa...</td>\n",
       "      <td>en</td>\n",
       "      <td>Academia Letters</td>\n",
       "      <td>NaN</td>\n",
       "      <td>Academia.edu</td>\n",
       "      <td>http://dx.doi.org/10.20935/al421</td>\n",
       "      <td>2021-03-04</td>\n",
       "      <td>2021-3-4</td>\n",
       "      <td>2021-3-4</td>\n",
       "      <td>2021-12-18</td>\n",
       "      <td>2021-3-6</td>\n",
       "      <td>0</td>\n",
       "      <td>0</td>\n",
       "      <td>journal-article</td>\n",
       "      <td>9563</td>\n",
       "      <td>2021</td>\n",
       "      <td>3</td>\n",
       "      <td>3</td>\n",
       "    </tr>\n",
       "    <tr>\n",
       "      <th>4</th>\n",
       "      <td>10.20935/al3740</td>\n",
       "      <td>10.20935</td>\n",
       "      <td>A Proof of Concept Randomized Controlled Trial...</td>\n",
       "      <td>en</td>\n",
       "      <td>Academia Letters</td>\n",
       "      <td>NaN</td>\n",
       "      <td>Academia.edu</td>\n",
       "      <td>http://dx.doi.org/10.20935/al3740</td>\n",
       "      <td>2021-10-20</td>\n",
       "      <td>2021-10-20</td>\n",
       "      <td>2021-10-20</td>\n",
       "      <td>2021-12-9</td>\n",
       "      <td>2021-11-11</td>\n",
       "      <td>0</td>\n",
       "      <td>0</td>\n",
       "      <td>journal-article</td>\n",
       "      <td>9563</td>\n",
       "      <td>2021</td>\n",
       "      <td>10</td>\n",
       "      <td>2</td>\n",
       "    </tr>\n",
       "  </tbody>\n",
       "</table>\n",
       "</div>"
      ],
      "text/plain": [
       "               DOI    prefix  \\\n",
       "0  10.20935/al2610  10.20935   \n",
       "1   10.20935/al953  10.20935   \n",
       "2   10.20935/al106  10.20935   \n",
       "3   10.20935/al421  10.20935   \n",
       "4  10.20935/al3740  10.20935   \n",
       "\n",
       "                                               title language  \\\n",
       "0  Florentino Ariza as a Machiavellian artist in ...       en   \n",
       "1  A Novel Treatment Approach in Alzheimer’s Dise...       en   \n",
       "2  Designing optimal welfare policies for interme...       en   \n",
       "3  Back and Forth: The Journey of Inclusive Educa...       en   \n",
       "4  A Proof of Concept Randomized Controlled Trial...       en   \n",
       "\n",
       "    container-title       ISSN     publisher  \\\n",
       "0  Academia Letters        NaN  Academia.edu   \n",
       "1  Academia Letters        NaN  Academia.edu   \n",
       "2  Academia Letters  2771-9359  Academia.edu   \n",
       "3  Academia Letters        NaN  Academia.edu   \n",
       "4  Academia Letters        NaN  Academia.edu   \n",
       "\n",
       "                                 URL     issued   published published-online  \\\n",
       "0  http://dx.doi.org/10.20935/al2610 2021-08-04    2021-8-4         2021-8-4   \n",
       "1   http://dx.doi.org/10.20935/al953 2021-04-28   2021-4-28        2021-4-28   \n",
       "2   http://dx.doi.org/10.20935/al106 2020-12-29  2020-12-29       2020-12-29   \n",
       "3   http://dx.doi.org/10.20935/al421 2021-03-04    2021-3-4         2021-3-4   \n",
       "4  http://dx.doi.org/10.20935/al3740 2021-10-20  2021-10-20       2021-10-20   \n",
       "\n",
       "      indexed     created  reference-count  is-referenced-by-count  \\\n",
       "0   2021-12-8   2021-8-17                0                       0   \n",
       "1  2021-12-12   2021-4-28                0                       0   \n",
       "2   2022-3-13   2021-1-14                0                       1   \n",
       "3  2021-12-18    2021-3-6                0                       0   \n",
       "4   2021-12-9  2021-11-11                0                       0   \n",
       "\n",
       "              type  member  year  month  weekday  \n",
       "0  journal-article    9563  2021      8        2  \n",
       "1  journal-article    9563  2021      4        2  \n",
       "2  journal-article    9563  2020     12        1  \n",
       "3  journal-article    9563  2021      3        3  \n",
       "4  journal-article    9563  2021     10        2  "
      ]
     },
     "execution_count": 19,
     "metadata": {},
     "output_type": "execute_result"
    }
   ],
   "source": [
    "# reading csv file as pandas dataframe\n",
    "authors_data = pd.read_csv('./data/' + prefix + 'authors.csv')\n",
    "authors_data['full-name'] = authors_data['given'] + \" \" + authors_data['family']\n",
    "\n",
    "data.head()"
   ]
  },
  {
   "cell_type": "code",
   "execution_count": 20,
   "metadata": {
    "collapsed": false,
    "jupyter": {
     "outputs_hidden": false
    }
   },
   "outputs": [
    {
     "data": {
      "text/plain": [
       "Amer Hamad Issa Abukhalaf    14\n",
       "Kurniawan Arif Maspul        13\n",
       "Austin Mardon                12\n",
       "Peter Anto Johnson            9\n",
       "John Christy Johnson          8\n",
       "                             ..\n",
       "David Dove                    1\n",
       "Winston Hurst                 1\n",
       "Steven Di Naso                1\n",
       "Md. Shafiqul Islam            1\n",
       "Victor Mignenan               1\n",
       "Name: full-name, Length: 4853, dtype: int64"
      ]
     },
     "execution_count": 20,
     "metadata": {},
     "output_type": "execute_result"
    }
   ],
   "source": [
    "authors_data['full-name'].value_counts()"
   ]
  },
  {
   "cell_type": "code",
   "execution_count": null,
   "metadata": {
    "collapsed": false,
    "jupyter": {
     "outputs_hidden": false
    }
   },
   "outputs": [],
   "source": [
    "authors_data['affiliation'].value_counts()"
   ]
  },
  {
   "cell_type": "code",
   "execution_count": null,
   "metadata": {
    "collapsed": false,
    "jupyter": {
     "outputs_hidden": false
    }
   },
   "outputs": [],
   "source": [
    "affiliation_data = authors_data.dropna()"
   ]
  },
  {
   "cell_type": "code",
   "execution_count": null,
   "metadata": {
    "collapsed": false,
    "jupyter": {
     "outputs_hidden": false
    }
   },
   "outputs": [],
   "source": [
    "affiliation_data[affiliation_data['affiliation'].str.contains('Mannheim')]"
   ]
  },
  {
   "cell_type": "code",
   "execution_count": null,
   "metadata": {},
   "outputs": [],
   "source": []
  }
 ],
 "metadata": {
  "kernelspec": {
   "display_name": "Python 3 (ipykernel)",
   "language": "python",
   "name": "python3"
  },
  "language_info": {
   "codemirror_mode": {
    "name": "ipython",
    "version": 3
   },
   "file_extension": ".py",
   "mimetype": "text/x-python",
   "name": "python",
   "nbconvert_exporter": "python",
   "pygments_lexer": "ipython3",
   "version": "3.7.12"
  }
 },
 "nbformat": 4,
 "nbformat_minor": 4
}
